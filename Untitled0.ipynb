{
  "nbformat": 4,
  "nbformat_minor": 0,
  "metadata": {
    "colab": {
      "name": "Untitled0.ipynb",
      "provenance": []
    },
    "kernelspec": {
      "name": "python3",
      "display_name": "Python 3"
    }
  },
  "cells": [
    {
      "cell_type": "code",
      "metadata": {
        "id": "QWLoPYizY48L",
        "colab_type": "code",
        "colab": {}
      },
      "source": [
        "import pandas as pd\n",
        "import matplotlib.pyplot as plt\n",
        "import math\n",
        "import numpy as np\n",
        "\n",
        "def first_binomial_call(S, K, T, r, u, d, N):\n",
        "    dt = T/N\n",
        "\n",
        "    p = (e**(r*dt)-d)/(u-d)\n",
        "    C = {}\n",
        "    for m in range(0, N+1):\n",
        "            C[(N, m)] = max(S[(N,m)]-K,0)\n",
        "    for k in range(N-1, -1, -1):\n",
        "        for m in range(0,k+1):\n",
        "            C[(k, m)] = (p*C[(k+1,m+1)] + (1-p)*C[(k+1,m)])/(e**(r*dt))\n",
        "    return C"
      ],
      "execution_count": null,
      "outputs": []
    },
    {
      "cell_type": "code",
      "metadata": {
        "id": "hHSuh3Z5Y6Dg",
        "colab_type": "code",
        "colab": {
          "base_uri": "https://localhost:8080/",
          "height": 128
        },
        "outputId": "1281dd8e-2310-4992-b6d5-91562e292b72"
      },
      "source": [
        "call = []\n",
        "for N in range(1,1000,10):\n",
        "  call_price = first_binomial_call(S = 100, K = 105, T = 1, r=0.1, u = 1.2, d =0.8, N)\n",
        "  # print(call_price)\n",
        "  call.append(call_price)\n",
        "call = pd.DataFrame(call)\n",
        "call.plot()"
      ],
      "execution_count": null,
      "outputs": [
        {
          "output_type": "error",
          "ename": "SyntaxError",
          "evalue": "ignored",
          "traceback": [
            "\u001b[0;36m  File \u001b[0;32m\"<ipython-input-2-12e4ae6da797>\"\u001b[0;36m, line \u001b[0;32m3\u001b[0m\n\u001b[0;31m    call_price = first_binomial_call(S = 100, K = 105, T = 1, r=0.1, u = 1.2, d =0.8, N)\u001b[0m\n\u001b[0m                                                                                     ^\u001b[0m\n\u001b[0;31mSyntaxError\u001b[0m\u001b[0;31m:\u001b[0m positional argument follows keyword argument\n"
          ]
        }
      ]
    },
    {
      "cell_type": "code",
      "metadata": {
        "id": "9KdOcjJPY_TV",
        "colab_type": "code",
        "colab": {}
      },
      "source": [
        ""
      ],
      "execution_count": null,
      "outputs": []
    }
  ]
}